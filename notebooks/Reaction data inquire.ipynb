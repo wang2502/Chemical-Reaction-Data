{
 "cells": [
  {
   "cell_type": "markdown",
   "metadata": {},
   "source": [
    "Load packages"
   ]
  },
  {
   "cell_type": "code",
   "execution_count": 1,
   "metadata": {},
   "outputs": [],
   "source": [
    "import _pickle as cPickle\n",
    "import gzip\n",
    "from collections import defaultdict\n",
    "import random"
   ]
  },
  {
   "cell_type": "markdown",
   "metadata": {},
   "source": [
    "Load the class names and labels"
   ]
  },
  {
   "cell_type": "code",
   "execution_count": 2,
   "metadata": {},
   "outputs": [],
   "source": [
    "dataDir = \"../data/\"\n",
    "\n",
    "with open(dataDir+\"reactionTypes_training_test_set_patent_data.pkl\",'rb') as f:\n",
    "    reaction_types = cPickle.load(f)\n",
    "with open(dataDir+\"names_rTypes_classes_superclasses_training_test_set_patent_data.pkl\",'rb') as f:\n",
    "    names_rTypes = cPickle.load(f)"
   ]
  },
  {
   "cell_type": "markdown",
   "metadata": {},
   "source": [
    "Check out"
   ]
  },
  {
   "cell_type": "code",
   "execution_count": 6,
   "metadata": {},
   "outputs": [
    {
     "name": "stdout",
     "output_type": "stream",
     "text": [
      "{'2.6.3', '3.1.1', '2.1.7', '6.2.1', '10.1.5', '3.1.6', '6.3.1', '1.6.2', '6.1.3', '1.6.8', '1.7.9', '2.1.1', '1.2.5', '1.3.6', '1.3.8', '1.2.4', '7.1.1', '6.1.5', '7.2.1', '2.1.2', '1.7.6', '10.2.1', '1.7.4', '8.1.4', '1.7.7', '9.3.1', '6.3.7', '8.1.5', '8.2.1', '6.1.1', '1.8.5', '3.1.5', '1.2.1', '7.3.1', '2.7.2', '2.2.3', '1.6.4', '6.2.3', '6.2.2', '2.3.1', '5.1.1', '7.9.2', '3.4.1', '10.4.2', '3.3.1', '9.1.6', '10.1.1', '10.1.2', '1.3.7', '2.6.1'}\n",
      "{'3.1.1': 'Bromo Suzuki coupling', '6.1.5': 'N-Bn deprotection', '3.1.6': 'Chloro Suzuki-type coupling', '3.1.5': 'Bromo Suzuki-type coupling', '6.1.1': 'N-Boc deprotection', '9.1.6': 'Hydroxy to chloro', '7.2': 'Amide to amine reduction', '7.3': 'Cyano or imine to amine', '7.1': 'Nitro to amine reduction', '6.3': 'ROH deprotections', '6.2': 'RCO2H deprotections', '6.1': 'NH deprotections', '7.9': 'Other reductions', '6.1.3': 'N-Cbz deprotection', '10.1': 'Halogenation', '10.2': 'Nitration', '10.4': 'Other functional group addition', '1.6.2': 'Bromo N-alkylation', '1.6.4': 'Chloro N-alkylation', '8': 'Oxidations', '1.6.8': 'Iodo N-alkylation', '1.7.7': 'Mitsunobu aryl ether synthesis', '1.8.5': 'Thioether synthesis', '10.1.1': 'Bromination', '10.1.2': 'Chlorination', '10.1.5': 'Wohl-Ziegler bromination', '9.3.1': 'Carboxylic acid to acid chloride', '7.9.2': 'Carboxylic acid to alcohol reduction', '3.4': 'Stille reaction', '3.3': 'Sonogashira reaction', '3.1': 'Suzuki coupling', '2.3': 'N-acylation to urea', '2.2': 'N-sulfonylation', '2.1': 'N-acylation to amide', '2.7': 'O-sulfonylation', '2.6': 'O-acylation to ester', '7.2.1': 'Amide to amine reduction', '3': 'C-C bond formation', '7': 'Reductions', '10.4.2': 'Methylation', '3.4.1': 'Stille reaction', '6.2.1': 'CO2H-Et deprotection', '6.2.3': 'CO2H-tBu deprotection', '6.2.2': 'CO2H-Me deprotection', '2.2.3': 'Sulfonamide Schotten-Baumann', '8.1': 'Alcohols to aldehydes', '8.2': 'Oxidations at sulfur', '10.2.1': 'Nitration', '2': 'Acylation and related processes', '6': 'Deprotections', '9.1': 'Alcohol to halide', '9.3': 'Acid to acid chloride', '1.3.7': 'Chloro N-arylation', '1.3.6': 'Bromo N-arylation', '1.3.8': 'Fluoro N-arylation', '8.2.1': 'Sulfanyl to sulfinyl', '10': 'Functional group addition (FGA)', '2.6.1': 'Ester Schotten-Baumann', '2.6.3': 'Fischer-Speier esterification', '3.3.1': 'Sonogashira coupling', '6.3.7': 'Methoxy to hydroxy', '6.3.1': 'O-Bn deprotection', '1.6': 'Heteroaryl N-alkylation', '1.7': 'O-substitution', '1.2': 'Reductive amination', '1.3': 'N-arylation with Ar-X', '1.8': 'S-substitution', '2.7.2': 'Sulfonic ester Schotten-Baumann', '2.1.2': 'Carboxylic acid + amine reaction', '2.1.1': 'Amide Schotten-Baumann', '2.1.7': 'N-acetylation', '5.1': 'NH protections', '1': 'Heteroatom alkylation and arylation', '5': 'Protections', '1.7.9': 'Williamson ether synthesis', '9': 'Functional group interconversion (FGI)', '1.7.6': 'Methyl esterification', '1.7.4': 'Hydroxy to methoxy', '2.3.1': 'Isocyanate + amine reaction', '1.2.4': 'Eschweiler-Clarke methylation', '1.2.5': 'Ketone reductive amination', '1.2.1': 'Aldehyde reductive amination', '8.1.4': 'Alcohol to aldehyde oxidation', '8.1.5': 'Alcohol to ketone oxidation', '5.1.1': 'N-Boc protection', '7.1.1': 'Nitro to amino', '7.3.1': 'Nitrile reduction'}\n"
     ]
    }
   ],
   "source": [
    "print(reaction_types)\n",
    "\n",
    "print(names_rTypes)"
   ]
  },
  {
   "cell_type": "markdown",
   "metadata": {},
   "source": [
    "Load data, total 40,000 training data"
   ]
  },
  {
   "cell_type": "code",
   "execution_count": 7,
   "metadata": {},
   "outputs": [
    {
     "name": "stdout",
     "output_type": "stream",
     "text": [
      "1.2.1 800\n",
      "1.2.4 1600\n",
      "1.2.5 2400\n",
      "1.3.6 3200\n",
      "1.3.7 4000\n",
      "1.3.8 4800\n",
      "1.6.2 5600\n",
      "1.6.4 6400\n",
      "1.6.8 7200\n",
      "1.7.4 8000\n",
      "1.7.6 8800\n",
      "1.7.7 9600\n",
      "1.7.9 10400\n",
      "1.8.5 11200\n",
      "10.1.1 12000\n",
      "10.1.2 12800\n",
      "10.1.5 13600\n",
      "10.2.1 14400\n",
      "10.4.2 15200\n",
      "2.1.1 16000\n",
      "2.1.2 16800\n",
      "2.1.7 17600\n",
      "2.2.3 18400\n",
      "2.3.1 19200\n",
      "2.6.1 20000\n",
      "2.6.3 20800\n",
      "2.7.2 21600\n",
      "3.1.1 22400\n",
      "3.1.5 23200\n",
      "3.1.6 24000\n",
      "3.3.1 24800\n",
      "3.4.1 25600\n",
      "5.1.1 26400\n",
      "6.1.1 27200\n",
      "6.1.3 28000\n",
      "6.1.5 28800\n",
      "6.2.1 29600\n",
      "6.2.2 30400\n",
      "6.2.3 31200\n",
      "6.3.1 32000\n",
      "6.3.7 32800\n",
      "7.1.1 33600\n",
      "7.2.1 34400\n",
      "7.3.1 35200\n",
      "7.9.2 36000\n",
      "8.1.4 36800\n",
      "8.1.5 37600\n",
      "8.2.1 38400\n",
      "9.1.6 39200\n",
      "9.3.1 40000\n"
     ]
    }
   ],
   "source": [
    "infile = gzip.open(dataDir+'training_set_patent_data.pkl.gz', 'rb')\n",
    "\n",
    "fps_train=[]\n",
    "\n",
    "lineNo=0\n",
    "while 1:\n",
    "    lineNo+=1\n",
    "    try:\n",
    "        smi,lbl,klass = cPickle.load(infile) \n",
    "        if not lineNo%800:\n",
    "            print(klass, lineNo)\n",
    "    except EOFError:\n",
    "        break\n",
    "    fps_train.append([smi,lbl,klass])\n",
    "#     if not lineNo%10000:\n",
    "#         print(\"Done \"+str(lineNo))        \n",
    "#     print(smi[1])"
   ]
  },
  {
   "cell_type": "code",
   "execution_count": 8,
   "metadata": {
    "scrolled": true
   },
   "outputs": [
    {
     "name": "stdout",
     "output_type": "stream",
     "text": [
      "[CH3:2][C:1](=[O:3])[O:4][CH2:5][C:6]([CH3:10])([CH3:11])[C:7](=[O:8])O.O=C([Cl:12])C(=O)Cl>Cc1ccccc1>[CH3:2][C:1](=[O:3])[O:4][CH2:5][C:6]([CH3:10])([CH3:11])[C:7](=[O:8])[Cl:12]\n"
     ]
    }
   ],
   "source": [
    "print(smi)"
   ]
  }
 ],
 "metadata": {
  "kernelspec": {
   "display_name": "Python 3",
   "language": "python",
   "name": "python3"
  },
  "language_info": {
   "codemirror_mode": {
    "name": "ipython",
    "version": 3
   },
   "file_extension": ".py",
   "mimetype": "text/x-python",
   "name": "python",
   "nbconvert_exporter": "python",
   "pygments_lexer": "ipython3",
   "version": "3.6.13"
  }
 },
 "nbformat": 4,
 "nbformat_minor": 4
}
